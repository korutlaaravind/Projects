{
 "cells": [
  {
   "cell_type": "markdown",
   "metadata": {},
   "source": [
    "# Week 4 Assignment"
   ]
  },
  {
   "cell_type": "markdown",
   "metadata": {},
   "source": [
    "## Assignment Details\n",
    "The `1962_2006_walmart_store_openings.csv` file is available here:\n",
    "https://raw.githubusercontent.com/plotly/datasets/master/1962_2006_walmart_store_openings.csv\n",
    "\n",
    "It contains information on Walmart store openings between the years 1962-2006. Some explanations on the meaning of variable names:\n",
    "\n",
    "- `storenum`: the unique store number (storenumber is an id, not a count)\t\n",
    "- `OPENDATE`: the date the original store was opened\n",
    "- `date_super`: the date the store became a super store\n",
    "- `conversion`: whether the original store was converted to a super store\n",
    "- `STRCITY`: the name of the city where the store is located\n",
    "- `STRSTATE`: the state where the store is located\n",
    "\n",
    "When answering the questions below, please make sure to examine the dataset carefully and understand if it needs further data aggregation, cleaning, or wrangling before you calcualte the answers to your questions."
   ]
  },
  {
   "cell_type": "markdown",
   "metadata": {},
   "source": [
    "#### [GRADED  TASK 1]\n",
    "Import the dataset and ensure all columns of data are properly read into an appropriate data structure."
   ]
  },
  {
   "cell_type": "code",
   "execution_count": 37,
   "metadata": {},
   "outputs": [
    {
     "name": "stdout",
     "output_type": "stream",
     "text": [
      "   storenum OPENDATE date_super  conversion  st  county  \\\n",
      "0         1   7/1/62     3/1/97         1.0   5       7   \n",
      "1         2   8/1/64     3/1/96         1.0   5       9   \n",
      "2         4   8/1/65     3/1/02         1.0   5       7   \n",
      "3         8  10/1/67     3/1/93         1.0   5      29   \n",
      "4         7  10/1/67        NaN         NaN   5     119   \n",
      "\n",
      "               STREETADDR            STRCITY STRSTATE  ZIPCODE   type_store  \\\n",
      "0        2110 WEST WALNUT             Rogers       AR    72756  Supercenter   \n",
      "1        1417 HWY 62/65 N           Harrison       AR    72601  Supercenter   \n",
      "2       2901 HWY 412 EAST     Siloam Springs       AR    72761  Supercenter   \n",
      "3   1621 NORTH BUSINESS 9          Morrilton       AR    72110  Supercenter   \n",
      "4  3801 CAMP ROBINSON RD.  North Little Rock       AR    72118     Wal-Mart   \n",
      "\n",
      "         LAT       LON  MONTH  DAY  YEAR  \n",
      "0  36.342235 -94.07141      7    1  1962  \n",
      "1  36.236984 -93.09345      8    1  1964  \n",
      "2  36.179905 -94.50208      8    1  1965  \n",
      "3  35.156491 -92.75858     10    1  1967  \n",
      "4  34.813269 -92.30229     10    1  1967  \n"
     ]
    }
   ],
   "source": [
    "# Your answer to Graded Task 1 here:\n",
    "\n",
    "import pandas as pd\n",
    "\n",
    "url = \"https://raw.githubusercontent.com/plotly/datasets/master/1962_2006_walmart_store_openings.csv\"\n",
    "\n",
    "# Reading the CSV file into a Pandas DataFrame\n",
    "dataset = pd.read_csv(url)\n",
    "\n",
    "# Displaying the first few rows of the DataFrame \n",
    "print(dataset.head())"
   ]
  },
  {
   "cell_type": "markdown",
   "metadata": {},
   "source": [
    "#### [GRADED  TASK 2]\n",
    "\n",
    "- which state has the `7th highest` total number of Walmart super stores?\n",
    "- which city has the `5th highest` total number of Walmart stores (super stores and regular stores combined)?"
   ]
  },
  {
   "cell_type": "code",
   "execution_count": 42,
   "metadata": {},
   "outputs": [
    {
     "name": "stdout",
     "output_type": "stream",
     "text": [
      "Block 1: State with the 7th highest total number of Walmart super stores: AL\n",
      "Block 2: City with the 5th highest total number of Walmart stores: Greenville\n"
     ]
    }
   ],
   "source": [
    "super_stores = dataset[dataset['type_store'] == 'Supercenter']\n",
    "\n",
    "# Block 1: Find the 7th highest total number of Walmart super stores by state\n",
    "super_store_counts_by_state = super_stores['STRSTATE'].value_counts().reset_index()\n",
    "super_store_counts_by_state.columns = ['State', 'Super Store Count']\n",
    "super_store_counts_by_state = super_store_counts_by_state.sort_values(by='Super Store Count', ascending=False)\n",
    "\n",
    "if len(super_store_counts_by_state) >= 7:\n",
    "    seventh_highest_state = super_store_counts_by_state.iloc[6]['State']\n",
    "    print(\"Block 1: State with the 7th highest total number of Walmart super stores:\", seventh_highest_state)\n",
    "else:\n",
    "    print(\"Block 1: There are not enough states with super stores to find the 7th highest.\")\n",
    "\n",
    "# Block 2: Find the 5th highest total number of Walmart stores (super stores and regular stores combined) by city\n",
    "total_store_counts_by_city = df['STRCITY'].value_counts().reset_index()\n",
    "total_store_counts_by_city.columns = ['City', 'Total Store Count']\n",
    "total_store_counts_by_city = total_store_counts_by_city.sort_values(by='Total Store Count', ascending=False)\n",
    "\n",
    "if len(total_store_counts_by_city) >= 5:\n",
    "    fifth_highest_city = total_store_counts_by_city.iloc[4]['City']\n",
    "    print(\"Block 2: City with the 5th highest total number of Walmart stores:\", fifth_highest_city)\n",
    "else:\n",
    "    print(\"Block 2: There are not enough cities with stores to find the 5th highest.\")"
   ]
  },
  {
   "cell_type": "markdown",
   "metadata": {},
   "source": [
    "#### [GRADED  TASK 3]\n",
    "Write a function that takes as arguments:\n",
    "\n",
    "1. the data frame you generated above from importing the Walmart dataset\n",
    "2. a state abbreviaton (e.g. `AR`)\n",
    "\n",
    "and, then, the function returns a pandas Data Frame with 2 columns: \n",
    "1. a column called `date` that contains the date (note that date must be properly ordered)\n",
    "2. a column called `cumsum` that contains the `cumulative` (i.e. `running`) sum of the number of stores over time opened in that state\n"
   ]
  },
  {
   "cell_type": "code",
   "execution_count": 44,
   "metadata": {},
   "outputs": [
    {
     "name": "stdout",
     "output_type": "stream",
     "text": [
      "           date  cumsum\n",
      "1431 1990-08-01       1\n",
      "1479 1990-10-29       2\n",
      "1446 1990-12-03       3\n",
      "1537 1991-01-30       4\n",
      "1544 1991-01-30       5\n",
      "...         ...     ...\n",
      "2864 2005-08-24     155\n",
      "2870 2005-08-24     156\n",
      "2954 2005-10-26     157\n",
      "2978 2006-01-27     158\n",
      "2991 2006-01-31     159\n",
      "\n",
      "[159 rows x 2 columns]\n"
     ]
    },
    {
     "name": "stderr",
     "output_type": "stream",
     "text": [
      "C:\\Users\\RajaShekar\\AppData\\Local\\Temp\\ipykernel_25972\\3959472039.py:8: SettingWithCopyWarning: \n",
      "A value is trying to be set on a copy of a slice from a DataFrame.\n",
      "Try using .loc[row_indexer,col_indexer] = value instead\n",
      "\n",
      "See the caveats in the documentation: https://pandas.pydata.org/pandas-docs/stable/user_guide/indexing.html#returning-a-view-versus-a-copy\n",
      "  state_df['OPENDATE'] = pd.to_datetime(state_df['OPENDATE'], format='%m/%d/%y', errors='coerce')\n",
      "C:\\Users\\RajaShekar\\AppData\\Local\\Temp\\ipykernel_25972\\3959472039.py:9: SettingWithCopyWarning: \n",
      "A value is trying to be set on a copy of a slice from a DataFrame\n",
      "\n",
      "See the caveats in the documentation: https://pandas.pydata.org/pandas-docs/stable/user_guide/indexing.html#returning-a-view-versus-a-copy\n",
      "  state_df['OPENDATE'].fillna(pd.to_datetime(state_df['OPENDATE'], format='%Y-%m-%d', errors='coerce'), inplace=True)\n"
     ]
    }
   ],
   "source": [
    "import pandas as pd\n",
    "\n",
    "def cumulative_store_count_by_state(dataframe, state_abbr):\n",
    "    # Filtering the DataFrame for the specified state\n",
    "    state_df = dataframe[dataframe['STRSTATE'] == state_abbr]\n",
    "\n",
    "    # Converting 'OPENDATE' column to datetime\n",
    "    state_df['OPENDATE'] = pd.to_datetime(state_df['OPENDATE'], format='%m/%d/%y', errors='coerce')\n",
    "    state_df['OPENDATE'].fillna(pd.to_datetime(state_df['OPENDATE'], format='%Y-%m-%d', errors='coerce'), inplace=True)\n",
    "\n",
    "    # Sorting the filtered DataFrame by the opening date\n",
    "    state_df = state_df.sort_values(by='OPENDATE')\n",
    "\n",
    "    # Creating a new DataFrame with date and cumulative store count columns\n",
    "    state_cumulative_df = pd.DataFrame({\n",
    "        'date': state_df['OPENDATE'],\n",
    "        'cumsum': range(1, len(state_df) + 1)  # Cumulative store count\n",
    "    })\n",
    "\n",
    "    return state_cumulative_df\n",
    "\n",
    "# Example usage:\n",
    "result_df = cumulative_store_count_by_state(df, 'CA')\n",
    "print(result_df)"
   ]
  },
  {
   "cell_type": "markdown",
   "metadata": {},
   "source": [
    "#### [GRADED  TASK 4]\n",
    "Using any of the three plotting libraries we discussed (`matplotlib`, `seaborn`, or `bokeh`), plot the time series of cumulative store count over time in the state of Idaho (ID)."
   ]
  },
  {
   "cell_type": "code",
   "execution_count": 45,
   "metadata": {},
   "outputs": [
    {
     "name": "stderr",
     "output_type": "stream",
     "text": [
      "C:\\Users\\RajaShekar\\AppData\\Local\\Temp\\ipykernel_25972\\1170626362.py:7: SettingWithCopyWarning: \n",
      "A value is trying to be set on a copy of a slice from a DataFrame.\n",
      "Try using .loc[row_indexer,col_indexer] = value instead\n",
      "\n",
      "See the caveats in the documentation: https://pandas.pydata.org/pandas-docs/stable/user_guide/indexing.html#returning-a-view-versus-a-copy\n",
      "  idaho_df['OPENDATE'] = pd.to_datetime(idaho_df['OPENDATE'], format='%m/%d/%y', errors='coerce')\n",
      "C:\\Users\\RajaShekar\\AppData\\Local\\Temp\\ipykernel_25972\\1170626362.py:8: SettingWithCopyWarning: \n",
      "A value is trying to be set on a copy of a slice from a DataFrame\n",
      "\n",
      "See the caveats in the documentation: https://pandas.pydata.org/pandas-docs/stable/user_guide/indexing.html#returning-a-view-versus-a-copy\n",
      "  idaho_df['OPENDATE'].fillna(pd.to_datetime(idaho_df['OPENDATE'], format='%Y-%m-%d', errors='coerce'), inplace=True)\n"
     ]
    },
    {
     "data": {
      "image/png": "[encoded data removed]",
      "text/plain": [
       "<Figure size 864x432 with 1 Axes>"
      ]
     },
     "metadata": {
      "needs_background": "light"
     },
     "output_type": "display_data"
    }
   ],
   "source": [
    "import matplotlib.pyplot as plt\n",
    "\n",
    "# Filtering the DataFrame for the state of Idaho (ID)\n",
    "idaho_df = df[df['STRSTATE'] == 'ID']\n",
    "\n",
    "# Converting the 'OPENDATE' column to datetime\n",
    "idaho_df['OPENDATE'] = pd.to_datetime(idaho_df['OPENDATE'], format='%m/%d/%y', errors='coerce')\n",
    "idaho_df['OPENDATE'].fillna(pd.to_datetime(idaho_df['OPENDATE'], format='%Y-%m-%d', errors='coerce'), inplace=True)\n",
    "\n",
    "# Sorting the DataFrame by the opening date\n",
    "idaho_df = idaho_df.sort_values(by='OPENDATE')\n",
    "\n",
    "# Calculating the cumulative store count\n",
    "idaho_df['cumsum'] = range(1, len(idaho_df) + 1)\n",
    "\n",
    "# Creating a time series plot\n",
    "plt.figure(figsize=(12, 6))\n",
    "plt.plot(idaho_df['OPENDATE'], idaho_df['cumsum'], marker='o', linestyle='-')\n",
    "plt.title('Cumulative Store Count Over Time in Idaho (ID)')\n",
    "plt.xlabel('Date')\n",
    "plt.ylabel('Cumulative Store Count')\n",
    "plt.grid(True)\n",
    "plt.tight_layout()\n",
    "\n",
    "# Plot\n",
    "plt.show()"
   ]
  },
  {
   "cell_type": "markdown",
   "metadata": {},
   "source": [
    "#### [GRADED  TASK 5]\n",
    "Using any of the three plotting libraries we discussed (`matplotlib`, `seaborn`, or `bokeh`), plot a bar chart that shows the `total` number of Walmart stores in each of the states that directly border the state of Utah (Arkansas (AR))."
   ]
  },
  {
   "cell_type": "code",
   "execution_count": 46,
   "metadata": {},
   "outputs": [
    {
     "data": {
      "image/png": "[encoded data removed]",
      "text/plain": [
       "<Figure size 720x432 with 1 Axes>"
      ]
     },
     "metadata": {
      "needs_background": "light"
     },
     "output_type": "display_data"
    }
   ],
   "source": [
    "# Your asnwer to Graded Task 5 here:\n",
    "# Defining a list of states that directly border Utah (Arkansas)\n",
    "bordering_states = ['AZ', 'CO', 'ID', 'NM', 'NV', 'WY']\n",
    "\n",
    "# Filtering the DataFrame for the bordering states\n",
    "bordering_states_df = df[df['STRSTATE'].isin(bordering_states)]\n",
    "\n",
    "# Group by state and count the number of stores in each state\n",
    "state_store_counts = bordering_states_df['STRSTATE'].value_counts().reset_index()\n",
    "state_store_counts.columns = ['State', 'Total Store Count']\n",
    "\n",
    "# Creating a bar chart\n",
    "plt.figure(figsize=(10, 6))\n",
    "plt.bar(state_store_counts['State'], state_store_counts['Total Store Count'])\n",
    "plt.title('Total Number of Walmart Stores in Bordering States of Utah (Arkansas)')\n",
    "plt.xlabel('State')\n",
    "plt.ylabel('Total Store Count')\n",
    "plt.grid(axis='y')\n",
    "plt.tight_layout()\n",
    "\n",
    "# Plot\n",
    "plt.show()"
   ]
  },
  {
   "cell_type": "code",
   "execution_count": null,
   "metadata": {},
   "outputs": [],
   "source": []
  },
  {
   "cell_type": "code",
   "execution_count": null,
   "metadata": {},
   "outputs": [],
   "source": []
  },
  {
   "cell_type": "code",
   "execution_count": null,
   "metadata": {},
   "outputs": [],
   "source": []
  }
 ],
 "metadata": {
  "kernelspec": {
   "display_name": "Python 3 (ipykernel)",
   "language": "python",
   "name": "python3"
  },
  "language_info": {
   "codemirror_mode": {
    "name": "ipython",
    "version": 3
   },
   "file_extension": ".py",
   "mimetype": "text/x-python",
   "name": "python",
   "nbconvert_exporter": "python",
   "pygments_lexer": "ipython3",
   "version": "3.9.12"
  }
 },
 "nbformat": 4,
 "nbformat_minor": 4
}
